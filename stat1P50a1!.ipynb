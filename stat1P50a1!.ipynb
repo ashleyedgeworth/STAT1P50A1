{
 "cells": [
  {
   "cell_type": "code",
   "execution_count": 27,
   "id": "3fcda765-140b-4d5c-a57a-82230b912c42",
   "metadata": {},
   "outputs": [
    {
     "name": "stdout",
     "output_type": "stream",
     "text": [
      "1\n",
      "2\n",
      "6\n",
      "24\n",
      "120\n",
      "720\n",
      "5040\n",
      "40320\n",
      "362880\n",
      "3628800\n",
      "39916800\n",
      "479001600\n"
     ]
    }
   ],
   "source": [
    "#question 1\n",
    "s = 1\n",
    "for item in range(1,10**8):\n",
    "    s = s * item\n",
    "    print(s)\n",
    "    if s > 10**8:\n",
    "        break"
   ]
  },
  {
   "cell_type": "code",
   "execution_count": 28,
   "id": "c50941f3-befc-45a5-907d-a3f2898d7662",
   "metadata": {},
   "outputs": [],
   "source": [
    "#question 2\n",
    "def name(listofnames):\n",
    "    vals = {}\n",
    "    for item in listofnames:\n",
    "        vals[item] = len(item)\n",
    "    print (vals)"
   ]
  },
  {
   "cell_type": "code",
   "execution_count": 29,
   "id": "a38ba3d0-5fea-4390-8ea9-ca31fa12813c",
   "metadata": {},
   "outputs": [
    {
     "name": "stdout",
     "output_type": "stream",
     "text": [
      "{'jimmy': 5, 'john': 4, 'joe': 3}\n"
     ]
    }
   ],
   "source": [
    "name ([\"jimmy\",\"john\",\"joe\"])"
   ]
  },
  {
   "cell_type": "code",
   "execution_count": 31,
   "id": "a2e29eee-c695-4777-84ca-512674b0f71e",
   "metadata": {},
   "outputs": [],
   "source": [
    "#question 3\n",
    "l = [[5,6], [5,7], [4,2], [3,6], [9,8], [1,3], [9,3], [7,1], [5,4], [2,7], [9,1], [9,3], [2,5]]"
   ]
  },
  {
   "cell_type": "code",
   "execution_count": 32,
   "id": "fb12053d-0b55-41f1-b023-a919fa61afd8",
   "metadata": {},
   "outputs": [
    {
     "name": "stdout",
     "output_type": "stream",
     "text": [
      "15625\n",
      "78125\n",
      "16\n",
      "729\n",
      "43046721\n",
      "1\n",
      "729\n",
      "7\n",
      "625\n",
      "128\n",
      "9\n",
      "729\n",
      "32\n"
     ]
    }
   ],
   "source": [
    "def fun(x,y):\n",
    "    return (x**y)\n",
    "for i in l:\n",
    "    print (fun(*i))"
   ]
  },
  {
   "cell_type": "code",
   "execution_count": 34,
   "id": "8446898b-aaf2-4838-917c-c883dc0df35e",
   "metadata": {},
   "outputs": [
    {
     "name": "stdout",
     "output_type": "stream",
     "text": [
      "0.3025839656795334\n",
      "6\n"
     ]
    }
   ],
   "source": [
    "#question 4\n",
    "from random import random\n",
    "\n",
    "l = [random() for i in range (20)]\n",
    "x = random ()\n",
    "b = sorted (l)\n",
    "counter = 0\n",
    "for i in b:\n",
    "    if i >= x:\n",
    "        print (i)\n",
    "        break \n",
    "    counter = counter + 1\n",
    "print (counter)"
   ]
  },
  {
   "cell_type": "code",
   "execution_count": 35,
   "id": "90b25048-de9b-4068-be49-809d7ea0b7de",
   "metadata": {},
   "outputs": [],
   "source": [
    "#question 5\n",
    "import math\n",
    "def area(radiusOfcircle1,radiusOfcircle2):\n",
    "    area1 = math.pi*(radiusOfcircle1**2)\n",
    "    area2 = math.pi*(radiusOfcircle2**2)\n",
    "    if area2 > area1:\n",
    "        temp = area1\n",
    "        area1 = area2\n",
    "        area2 = temp\n",
    "    c = area1 - area2\n",
    "    return (c/area1) * 100"
   ]
  },
  {
   "cell_type": "code",
   "execution_count": 36,
   "id": "09cb5387-2417-49f2-b6ca-e691d4c089ba",
   "metadata": {},
   "outputs": [
    {
     "data": {
      "text/plain": [
       "55.55555555555556"
      ]
     },
     "execution_count": 36,
     "metadata": {},
     "output_type": "execute_result"
    }
   ],
   "source": [
    "area(3,2)"
   ]
  },
  {
   "cell_type": "code",
   "execution_count": 37,
   "id": "877beef1-18b4-4bcd-a2ca-aa2b9bf42e0a",
   "metadata": {},
   "outputs": [],
   "source": [
    "#question 6\n",
    "def function(listOfnumbers):\n",
    "    dictonaryOutput = {}\n",
    "    for i in listOfnumbers:\n",
    "        counter = 0\n",
    "        #find how many entries are less than or equal to i\n",
    "        for j in listOfnumbers:\n",
    "            if j <= i:\n",
    "                counter = counter + 1\n",
    "        dictonaryOutput[i] = counter / len(listOfnumbers) \n",
    "    return(dictonaryOutput)"
   ]
  },
  {
   "cell_type": "code",
   "execution_count": 38,
   "id": "536e10d9-07d3-408a-aa56-fb76d5d289c5",
   "metadata": {},
   "outputs": [
    {
     "data": {
      "text/plain": [
       "{1: 0.3333333333333333, 2: 0.6666666666666666, 4: 1.0}"
      ]
     },
     "execution_count": 38,
     "metadata": {},
     "output_type": "execute_result"
    }
   ],
   "source": [
    "function ([1,2,4])"
   ]
  },
  {
   "cell_type": "code",
   "execution_count": 39,
   "id": "fd8ad632-700f-48d6-9b66-dd9a2c41f0e5",
   "metadata": {},
   "outputs": [],
   "source": [
    "#question 7\n",
    "import math\n",
    "def functionA(sec):\n",
    "    h=math.floor(sec / 3600)\n",
    "    sec = sec - (h*3600)\n",
    "    m =math.floor(sec / 60)\n",
    "    sec = sec - (m*60)\n",
    "    if h<12:\n",
    "        print (h,m,sec, 'AM')\n",
    "    elif h>=24: \n",
    "        print('incorrect')\n",
    "    else:\n",
    "        print (h,m,sec, 'PM')"
   ]
  },
  {
   "cell_type": "code",
   "execution_count": 41,
   "id": "edcbd1f5-7767-4ca9-aed4-42413799ad8e",
   "metadata": {},
   "outputs": [
    {
     "name": "stdout",
     "output_type": "stream",
     "text": [
      "23 9 59 PM\n"
     ]
    }
   ],
   "source": [
    "functionA (83399)"
   ]
  },
  {
   "cell_type": "code",
   "execution_count": 42,
   "id": "b84bc263-c19a-4ae1-9f97-2f7c35c9676b",
   "metadata": {},
   "outputs": [
    {
     "name": "stdout",
     "output_type": "stream",
     "text": [
      "   A    B    C\n",
      "0  1  3.1  800\n",
      "1  2  4.2  150\n",
      "2  2  1.5  400\n",
      "3  1  6.3  210\n"
     ]
    }
   ],
   "source": [
    "#question 8\n",
    "import pandas as pd\n",
    "data = {\"A\":[1,2,2,1], \"B\": [3.1, 4.2, 1.5, 6.3], \"C\": [800, 150, 400, 210]}\n",
    "df = pd.DataFrame(data)\n",
    "print (df)"
   ]
  }
 ],
 "metadata": {
  "kernelspec": {
   "display_name": "Python 3 (ipykernel)",
   "language": "python",
   "name": "python3"
  },
  "language_info": {
   "codemirror_mode": {
    "name": "ipython",
    "version": 3
   },
   "file_extension": ".py",
   "mimetype": "text/x-python",
   "name": "python",
   "nbconvert_exporter": "python",
   "pygments_lexer": "ipython3",
   "version": "3.9.12"
  }
 },
 "nbformat": 4,
 "nbformat_minor": 5
}
