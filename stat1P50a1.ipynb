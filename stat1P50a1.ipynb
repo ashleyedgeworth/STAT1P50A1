{
 "cells": [
  {
   "cell_type": "code",
   "execution_count": 1,
   "id": "9ce723db-738c-4ae1-a295-cb2a796f800b",
   "metadata": {},
   "outputs": [
    {
     "name": "stdout",
     "output_type": "stream",
     "text": [
      "1\n",
      "2\n",
      "6\n",
      "24\n",
      "120\n",
      "720\n",
      "5040\n",
      "40320\n",
      "362880\n",
      "3628800\n",
      "39916800\n",
      "479001600\n"
     ]
    }
   ],
   "source": [
    "s = 1\n",
    "for item in range(1,10**8):\n",
    "    s = s * item\n",
    "    print(s)\n",
    "    if s > 10**8:\n",
    "        break"
   ]
  },
  {
   "cell_type": "code",
   "execution_count": 2,
   "id": "ad72125f-8880-4ab0-bdec-6be6024da2c0",
   "metadata": {},
   "outputs": [],
   "source": [
    "def name(listofnames):\n",
    "    vals = {}\n",
    "    for item in listofnames:\n",
    "        vals[item] = len(item)\n",
    "    print (vals)"
   ]
  },
  {
   "cell_type": "code",
   "execution_count": 3,
   "id": "fb95ef00-ef0e-4268-8e98-dea3f98e73f7",
   "metadata": {},
   "outputs": [
    {
     "name": "stdout",
     "output_type": "stream",
     "text": [
      "{'jimmy': 5, 'john': 4, 'joe': 3}\n"
     ]
    }
   ],
   "source": [
    "name ([\"jimmy\",\"john\",\"joe\"])"
   ]
  },
  {
   "cell_type": "code",
   "execution_count": 4,
   "id": "b2a7ecd7-7208-433b-a9a8-12313922d567",
   "metadata": {},
   "outputs": [],
   "source": [
    "l = [[5,6], [5,7], [4,2], [3,6], [9,8], [1,3], [9,3], [7,1], [5,4], [2,7], [9,1], [9,3], [2,5]]"
   ]
  },
  {
   "cell_type": "code",
   "execution_count": 5,
   "id": "35306f9c-94e1-44e9-9119-310977c0bb35",
   "metadata": {},
   "outputs": [
    {
     "name": "stdout",
     "output_type": "stream",
     "text": [
      "15625\n",
      "78125\n",
      "16\n",
      "729\n",
      "43046721\n",
      "1\n",
      "729\n",
      "7\n",
      "625\n",
      "128\n",
      "9\n",
      "729\n",
      "32\n"
     ]
    }
   ],
   "source": [
    "def fun(x,y):\n",
    "    return (x**y)\n",
    "for i in l:\n",
    "    print (fun(*i))"
   ]
  },
  {
   "cell_type": "code",
   "execution_count": 6,
   "id": "07ee5c99-e563-47ee-b8ca-86705d509511",
   "metadata": {},
   "outputs": [
    {
     "name": "stdout",
     "output_type": "stream",
     "text": [
      "0.44409014356232035\n",
      "9\n"
     ]
    }
   ],
   "source": [
    "from random import random\n",
    "\n",
    "l = [random() for i in range (20)]\n",
    "x = random ()\n",
    "b = sorted (l)\n",
    "counter = 0\n",
    "for i in b:\n",
    "    if i >= x:\n",
    "        print (i)\n",
    "        break \n",
    "    counter = counter + 1\n",
    "print (counter)"
   ]
  },
  {
   "cell_type": "code",
   "execution_count": 7,
   "id": "1159938b-bf7b-49b2-a23b-55a691b35f9e",
   "metadata": {},
   "outputs": [],
   "source": [
    "import math\n",
    "def area(radiusOfcircle1,radiusOfcircle2):\n",
    "    area1 = math.pi*(radiusOfcircle1**2)\n",
    "    area2 = math.pi*(radiusOfcircle2**2)\n",
    "    if area2 > area1:\n",
    "        temp = area1\n",
    "        area1 = area2\n",
    "        area2 = temp\n",
    "    c = area1 - area2\n",
    "    return (c/area1) * 100"
   ]
  },
  {
   "cell_type": "code",
   "execution_count": 8,
   "id": "c88aec91-a5a9-418c-9954-abb33c2053b0",
   "metadata": {},
   "outputs": [
    {
     "data": {
      "text/plain": [
       "55.55555555555556"
      ]
     },
     "execution_count": 8,
     "metadata": {},
     "output_type": "execute_result"
    }
   ],
   "source": [
    "area(3,2)"
   ]
  },
  {
   "cell_type": "code",
   "execution_count": 9,
   "id": "28de70d1-adb8-4afc-bc65-6acb9573d619",
   "metadata": {},
   "outputs": [],
   "source": [
    "def function(listOfnumbers):\n",
    "    dictonaryOutput = {}\n",
    "    for i in listOfnumbers:\n",
    "        counter = 0\n",
    "        #find how many entries are less than or equal to i\n",
    "        for j in listOfnumbers:\n",
    "            if j <= i:\n",
    "                counter = counter + 1\n",
    "        dictonaryOutput[i] = counter / len(listOfnumbers) \n",
    "    return(dictonaryOutput)"
   ]
  },
  {
   "cell_type": "code",
   "execution_count": 10,
   "id": "143141a2-392e-42f9-8546-4f32b53b71eb",
   "metadata": {},
   "outputs": [
    {
     "data": {
      "text/plain": [
       "{1: 0.3333333333333333, 2: 0.6666666666666666, 4: 1.0}"
      ]
     },
     "execution_count": 10,
     "metadata": {},
     "output_type": "execute_result"
    }
   ],
   "source": [
    "function ([1,2,4])"
   ]
  },
  {
   "cell_type": "code",
   "execution_count": 11,
   "id": "43b87430-e0f7-4de2-8337-1ee63231ae26",
   "metadata": {},
   "outputs": [
    {
     "name": "stdout",
     "output_type": "stream",
     "text": [
      "   A    B    C\n",
      "0  1  3.1  800\n",
      "1  2  4.2  150\n",
      "2  2  1.5  400\n",
      "3  1  6.3  210\n"
     ]
    }
   ],
   "source": [
    "import pandas as pd\n",
    "data = {\"A\":[1,2,2,1], \"B\": [3.1, 4.2, 1.5, 6.3], \"C\": [800, 150, 400, 210]}\n",
    "df = pd.DataFrame(data)\n",
    "print (df)"
   ]
  }
 ],
 "metadata": {
  "kernelspec": {
   "display_name": "Python 3 (ipykernel)",
   "language": "python",
   "name": "python3"
  },
  "language_info": {
   "codemirror_mode": {
    "name": "ipython",
    "version": 3
   },
   "file_extension": ".py",
   "mimetype": "text/x-python",
   "name": "python",
   "nbconvert_exporter": "python",
   "pygments_lexer": "ipython3",
   "version": "3.9.12"
  }
 },
 "nbformat": 4,
 "nbformat_minor": 5
}
